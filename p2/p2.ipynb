{
  "nbformat": 4,
  "nbformat_minor": 0,
  "metadata": {
    "colab": {
      "provenance": []
    },
    "kernelspec": {
      "name": "python3",
      "display_name": "Python 3"
    },
    "language_info": {
      "name": "python"
    }
  },
  "cells": [
    {
      "cell_type": "code",
      "execution_count": 13,
      "metadata": {
        "id": "-1is2shr0hBr"
      },
      "outputs": [],
      "source": [
        "import tictac as tt\n",
        "import random as rnd"
      ]
    },
    {
      "cell_type": "code",
      "source": [
        "q_table = {}\n",
        "er = 0.1\n",
        "lr = 0.5\n",
        "gamma = 0.9\n",
        "initial_bot_level = 0.3\n",
        "games = []"
      ],
      "metadata": {
        "id": "Iuy5MsIg2Yih"
      },
      "execution_count": 14,
      "outputs": []
    },
    {
      "cell_type": "code",
      "source": [
        "def act(game):\n",
        "  if rnd.random() < er:\n",
        "    return rnd.choice(tt.get_available(game.board))\n",
        "  return max(\n",
        "      tt.get_available(game.board),\n",
        "      key=lambda square: q_table.get((tuple(game.board), square), 0),\n",
        "      default=rnd.choice(tt.get_available(game.board))\n",
        "  )\n",
        "\n",
        "def update(key, reward, next):\n",
        "  q = q_table.get(key, 0)\n",
        "  max_q_pred = max([q_table.get((tuple(next), square), 0) for square in tt.get_available(next)], default=0)\n",
        "  q_table[key] = q + lr * (reward + gamma * max_q_pred - q)"
      ],
      "metadata": {
        "id": "Vda6g6hB3z2D"
      },
      "execution_count": 15,
      "outputs": []
    },
    {
      "cell_type": "code",
      "source": [
        "def train_agent(episodes=1000):\n",
        "  for episode in range(episodes):\n",
        "    bot_level = min(\n",
        "      1.0,\n",
        "      initial_bot_level + (episode / (0.9 * episodes)) * (1.0 - initial_bot_level)\n",
        "    )\n",
        "\n",
        "    game = tt.TicTacToeGame(\n",
        "      multiplayer=False, bot_level=bot_level\n",
        "    )\n",
        "    while not game.ended:\n",
        "      current_state = tuple(game.board)\n",
        "      action = act(game)\n",
        "      game.play_round(action)\n",
        "\n",
        "      if game.winner is True:\n",
        "          reward = 1\n",
        "      elif game.winner is False:\n",
        "          reward = -1\n",
        "      elif game.ended:\n",
        "          reward = 0\n",
        "      else:\n",
        "          reward = 0\n",
        "\n",
        "      next_state = tuple(game.board)\n",
        "      key = (current_state, action)\n",
        "      update(key, reward, next_state)\n",
        "    games.append(game.history[-1])"
      ],
      "metadata": {
        "id": "qF-5GeTv3e5W"
      },
      "execution_count": 16,
      "outputs": []
    },
    {
      "cell_type": "code",
      "source": [
        "train_agent()"
      ],
      "metadata": {
        "id": "3SB8QYou3qbc"
      },
      "execution_count": 17,
      "outputs": []
    },
    {
      "cell_type": "code",
      "source": [
        "for game in games[-10:]:\n",
        "  print(game)"
      ],
      "metadata": {
        "colab": {
          "base_uri": "https://localhost:8080/"
        },
        "id": "CQsHCgfE_gBH",
        "outputId": "97bf247b-b0cc-4b8e-f617-dda98a2378ad"
      },
      "execution_count": 18,
      "outputs": [
        {
          "output_type": "stream",
          "name": "stdout",
          "text": [
            "O O X\n",
            "X X O\n",
            "O X O\n",
            "\n",
            "X O O\n",
            "O O X\n",
            "X X X\n",
            "\n",
            "O O X\n",
            "X X O\n",
            "O X O\n",
            "\n",
            "O O X\n",
            "X X O\n",
            "O X O\n",
            "\n",
            "X O X\n",
            "X X O\n",
            "O X O\n",
            "\n",
            "X O O\n",
            "X X O\n",
            "O X X\n",
            "\n",
            "O O X\n",
            "X X O\n",
            "O X O\n",
            "\n",
            "O O X\n",
            "X X O\n",
            "O O X\n",
            "\n",
            "X O O\n",
            "X X O\n",
            "O X X\n",
            "\n",
            "X O X\n",
            "X O *\n",
            "* O *\n",
            "\n"
          ]
        }
      ]
    }
  ]
}